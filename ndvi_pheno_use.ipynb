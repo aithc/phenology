{
 "cells": [
  {
   "cell_type": "markdown",
   "id": "262e14e1",
   "metadata": {},
   "source": [
    "##  estimate phenology from gimms ndvi\n",
    "\n",
    "1. process raw ndvi data: choose site covered by plant, replace negative ndvi, savgol-filter\n",
    "\n",
    "2. fit model to get daily ndvi sequence\n",
    "\n",
    "3. get phenology using threshold or change point\n"
   ]
  },
  {
   "cell_type": "code",
   "execution_count": 1,
   "id": "36053e74",
   "metadata": {},
   "outputs": [],
   "source": [
    "import xarray as xr\n",
    "import numpy as np\n",
    "import matplotlib.pyplot as plt\n",
    "import glob\n",
    "import dask"
   ]
  },
  {
   "cell_type": "code",
   "execution_count": 2,
   "id": "47459531",
   "metadata": {},
   "outputs": [],
   "source": [
    "import savitzky_golay\n",
    "import numpy.polynomial.polynomial as poly\n",
    "import scipy.interpolate as spi\n",
    "from dask.diagnostics import ProgressBar"
   ]
  },
  {
   "cell_type": "code",
   "execution_count": 3,
   "id": "8621746b",
   "metadata": {},
   "outputs": [],
   "source": [
    "def read_ndvi_data(paths):\n",
    "    ndvi = []\n",
    "    for file in paths:\n",
    "        print(file)\n",
    "        \n",
    "        with xr.open_dataset(file,chunks=({'lat':1000,'lon':100})) as ndvi_i:\n",
    "            ndvi.append(ndvi_i['ndvi'])\n",
    "        \n",
    "    ndvi_data = xr.concat(ndvi, dim = 'time')\n",
    "    ndvi_data = ndvi_data.sortby('time')\n",
    "        \n",
    "    ndvi_data = ndvi_data.chunk({'lat':1000, 'lon':100, 'time':-1})\n",
    "        \n",
    "    return ndvi_data"
   ]
  },
  {
   "cell_type": "code",
   "execution_count": 4,
   "id": "a5eeaa58",
   "metadata": {},
   "outputs": [],
   "source": [
    "def dbl_logistic_model(p, doys):\n",
    "    y = p[0] + p[1] * (1./(1+np.exp(p[2]*(doys-p[3]))) + \n",
    "                      1./(1 + np.exp(-p[4]*(doys - p[5]))))\n",
    "    return y"
   ]
  },
  {
   "cell_type": "code",
   "execution_count": 5,
   "id": "8b8599eb",
   "metadata": {},
   "outputs": [],
   "source": [
    "def mismatch_function(p, pheno_func, data, days):\n",
    "    output = []\n",
    "    \n",
    "    fitness = lambda p, data_in, days: data_in - pheno_func(p, days)\n",
    "    \n",
    "    oot = fitness( p , data, days)\n",
    "    [output.append(x) for x in oot]\n",
    "    \n",
    "    return np.array(output).squeeze()"
   ]
  },
  {
   "cell_type": "code",
   "execution_count": 6,
   "id": "19a8f369",
   "metadata": {},
   "outputs": [],
   "source": [
    "def fit_double_logistic(data, t_axis, xinit = None):\n",
    "    \n",
    "    from scipy.optimize import leastsq\n",
    "    \n",
    "    pheno_func = dbl_logistic_model\n",
    "    \n",
    "    n_params = 6\n",
    "    if xinit is None:\n",
    "        xinit = [.5,] * n_params\n",
    "        xinit[0] = data.min()\n",
    "        xinit[1] = data.max() - data.min()\n",
    "        xinit[2] = 0.19\n",
    "        xinit[3] = 120\n",
    "        xinit[4] = 0.13\n",
    "        xinit[5] = 260\n",
    "        \n",
    "    (xsol , msg) = leastsq(mismatch_function, xinit, maxfev=1000000,\n",
    "                           args = (pheno_func, data ,t_axis))\n",
    "    \n",
    "    ax = pheno_func( xsol, np.arange(1,366))\n",
    "    \n",
    "    return (xsol, msg, ax)\n",
    "        "
   ]
  },
  {
   "cell_type": "code",
   "execution_count": 7,
   "id": "1140349e",
   "metadata": {},
   "outputs": [],
   "source": [
    "def piece_logistic(p,doys):\n",
    "    y = p[0] + (p[1] - p[0])/(1+np.exp(p[2]*(p[3]-doys)))\n",
    "    \n",
    "    return y"
   ]
  },
  {
   "cell_type": "code",
   "execution_count": 8,
   "id": "864b888e",
   "metadata": {},
   "outputs": [],
   "source": [
    "def fit_piece_logistic( data, t_axis, xinit = None, season = 'sos'):\n",
    "    from scipy.optimize import leastsq\n",
    "    \n",
    "    pheno_func = piece_logistic\n",
    "    n_params = 4\n",
    "    \n",
    "    if xinit is None:\n",
    "        xinit = [.5] * n_params\n",
    "        \n",
    "        xinit[0] = data.min()\n",
    "        xinit[1] = data.max()\n",
    "        xinit[2] = 0.15\n",
    "        \n",
    "        if season == 'sos':\n",
    "            xinit[3] = 120\n",
    "        else:\n",
    "            xinit[3] = 250\n",
    "        \n",
    "    (xsol, msg) = leastsq( mismatch_function,xinit, maxfev= 1000000,\n",
    "                         args = (pheno_func, data, t_axis))\n",
    "    \n",
    "    if season == 'sos':\n",
    "        ax = pheno_func(xsol, np.arange(1,t_axis.max()))\n",
    "    else:\n",
    "        ax = pheno_func(xsol, np.arange(t_axis.min(),t_axis.max()))\n",
    "    return (xsol, msg, ax)"
   ]
  },
  {
   "cell_type": "code",
   "execution_count": 9,
   "id": "0df6b2aa",
   "metadata": {},
   "outputs": [],
   "source": [
    "def get_ndvi_phenology(ndvi_data, ndvi_mean):\n",
    "    \n",
    "    phenos = np.full(8, np.nan)\n",
    "    \n",
    "    ## check data of points\n",
    "    if np.sum(np.isnan(ndvi_data)) < 12 and ndvi_mean > 0.1 :\n",
    "        \n",
    "        #doy = np.arange(8,365,15)  ## gimms ndvi\n",
    "        doy = np.arange(8,365,16)  ## modis 16d ndvi\n",
    "        ndvi_data = np.nan_to_num(ndvi_data, nan = ndvi_mean)\n",
    "        growing_season = np.mean(ndvi_data[10:16])\n",
    "        non_growing_1 = np.mean(ndvi_data[np.arange(6)])\n",
    "        non_growing_2 = np.mean(ndvi_data[np.arange(20,len(ndvi_data))])\n",
    "        non_growing_season = np.mean([non_growing_1,non_growing_2])\n",
    "        \n",
    "        doy_mid_raw = doy[ndvi_data.argmax()]\n",
    "        is_mid = doy_mid_raw > 150 and doy_mid_raw < 270\n",
    "        \n",
    "        if growing_season > (1.2*non_growing_season)  and is_mid:\n",
    "            \n",
    "            ## SG-filter\n",
    "            ndvi_data = np.asarray(ndvi_data[:len(doy)])\n",
    "            ndvi_data_sg = savitzky_golay.savitzky_golay(ndvi_data,15,4)\n",
    "            \n",
    "            #plt.plot(ndvi_data_sg)\n",
    "            ## divide into spr_data and aut_data\n",
    "            index_mid = ndvi_data_sg.argmax()\n",
    "            doy_mid = doy[index_mid]\n",
    "            \n",
    "            if doy_mid >160 and doy_mid < 220: \n",
    "                doy_spr = doy[:index_mid]\n",
    "                doy_aut = doy[index_mid:]\n",
    "\n",
    "                data_sg_spr = ndvi_data_sg[:index_mid]\n",
    "                data_sg_aut = ndvi_data_sg[index_mid:]\n",
    "            \n",
    "            else:\n",
    "                doy_spr = doy[doy <= 200]\n",
    "                doy_aut = doy[doy > 170]\n",
    "            \n",
    "                data_sg_spr = ndvi_data_sg[doy <= 200]\n",
    "                data_sg_aut = ndvi_data_sg[doy > 170]\n",
    "            \n",
    "            ## method 1: poly 50%\n",
    "            poly_model = poly.polyfit(doy,ndvi_data_sg,6)\n",
    "            poly_ndvi = poly.polyval(np.arange(1,366),poly_model)\n",
    "            \n",
    "            poly_ratio = (poly_ndvi- poly_ndvi.min()) / (poly_ndvi.max() - \n",
    "                                              poly_ndvi.min())\n",
    "            \n",
    "            if len(poly_ratio) > 0:\n",
    "                phenos[0] = np.asarray(poly_ratio > 0.5).nonzero()[0][0]\n",
    "                phenos[4] = np.asarray(poly_ratio > 0.5).nonzero()[0][-1]    \n",
    "            \n",
    "            ## method 2: spline 50%\n",
    "            spi_spline = spi.splrep(doy,ndvi_data_sg,k=3)\n",
    "            result_spline_3 = spi.splev(np.arange(1,366),spi_spline)\n",
    "\n",
    "            ratio_spline = (result_spline_3 - result_spline_3.min()) / (\n",
    "                result_spline_3.max() - result_spline_3.min())\n",
    "            \n",
    "            if len(np.asarray(ratio_spline > 0.5).nonzero()[0]) > 0:\n",
    "                phenos[1] = np.asarray(ratio_spline > 0.5).nonzero()[0][0]\n",
    "                phenos[5] = np.asarray(ratio_spline > 0.5).nonzero()[0][-1]\n",
    "    \n",
    "            ## method 3: dlog\n",
    "            dlog_model = fit_double_logistic(ndvi_data_sg,doy)    \n",
    "            \n",
    "            dbl_fitted_ndvi = dlog_model[2]\n",
    "            \n",
    "            if len(dbl_fitted_ndvi) > 0:\n",
    "                dbl_ndvi_1der = np.diff(dbl_fitted_ndvi)\n",
    "            \n",
    "                phenos[2] = np.arange(1,365)[dbl_ndvi_1der.argmax()]\n",
    "                phenos[6] = np.arange(1,365)[dbl_ndvi_1der.argmin()]\n",
    "    \n",
    "            ## method 4: plog\n",
    "            plog_spr = fit_piece_logistic(data_sg_spr, doy_spr)\n",
    "            plog_aut = fit_piece_logistic(data_sg_aut, doy_aut, season = 'aut')\n",
    "            \n",
    "            if len(plog_spr[2]) > 0:\n",
    "                plog_fitted_ndvi_spr = plog_spr[2]\n",
    "                plog_spr_1der = np.diff(plog_fitted_ndvi_spr)\n",
    "                \n",
    "                phenos[3] = np.arange(1,doy_spr.max())[plog_spr_1der.argmax()]\n",
    "                \n",
    "            if len(plog_aut[2]) > 0:\n",
    "                plog_fitted_ndvi_aut = plog_aut[2]\n",
    "                plog_aut_1der = np.diff(plog_fitted_ndvi_aut)\n",
    "            \n",
    "                phenos[7] = np.arange(doy_aut.min(),366)[plog_aut_1der.argmin()]\n",
    "\n",
    "    \n",
    "    return phenos\n"
   ]
  },
  {
   "cell_type": "code",
   "execution_count": 10,
   "id": "ac920879",
   "metadata": {},
   "outputs": [],
   "source": [
    "def ndvi_pheno(x,ndvi_mean):\n",
    "    return xr.apply_ufunc(\n",
    "        get_ndvi_phenology,\n",
    "        x,\n",
    "        ndvi_mean,\n",
    "        input_core_dims = [['time'],[]],\n",
    "        output_core_dims = [['pheno']],\n",
    "        dask_gufunc_kwargs = {'output_sizes':{'pheno':8}},\n",
    "        vectorize = True,\n",
    "        dask = 'parallelized',\n",
    "        output_dtypes= [float]\n",
    "    )"
   ]
  },
  {
   "cell_type": "code",
   "execution_count": 11,
   "id": "acb041db",
   "metadata": {},
   "outputs": [],
   "source": [
    "start_year = 2001\n",
    "end_year = 2020\n",
    "lat_lon = '-75-70'"
   ]
  },
  {
   "cell_type": "code",
   "execution_count": 12,
   "id": "a2e9d8a9",
   "metadata": {},
   "outputs": [],
   "source": [
    "ndvi_path = glob.glob(r'file_path'+'*.nc')"
   ]
  },
  {
   "cell_type": "code",
   "execution_count": 13,
   "id": "f6d8160d",
   "metadata": {
    "scrolled": true
   },
   "outputs": [
    {
     "name": "stdout",
     "output_type": "stream",
     "text": [
      "file1\n",
      "file2\n"
     ]
    },
    {
     "name": "stderr",
     "output_type": "stream",
     "text": [
      "C:\\Users\\.conda\\envs\\geo\\lib\\site-packages\\xarray\\core\\indexing.py:1379: PerformanceWarning: Slicing with an out-of-order index is generating 22 times more chunks\n",
      "  return self.array[key]\n"
     ]
    }
   ],
   "source": [
    "ndvi_data = read_ndvi_data(ndvi_path)"
   ]
  },
  {
   "cell_type": "code",
   "execution_count": 14,
   "id": "2424cad1",
   "metadata": {},
   "outputs": [
    {
     "data": {
      "text/html": [
       "<div><svg style=\"position: absolute; width: 0; height: 0; overflow: hidden\">\n",
       "<defs>\n",
       "<symbol id=\"icon-database\" viewBox=\"0 0 32 32\">\n",
       "<path d=\"M16 0c-8.837 0-16 2.239-16 5v4c0 2.761 7.163 5 16 5s16-2.239 16-5v-4c0-2.761-7.163-5-16-5z\"></path>\n",
       "<path d=\"M16 17c-8.837 0-16-2.239-16-5v6c0 2.761 7.163 5 16 5s16-2.239 16-5v-6c0 2.761-7.163 5-16 5z\"></path>\n",
       "<path d=\"M16 26c-8.837 0-16-2.239-16-5v6c0 2.761 7.163 5 16 5s16-2.239 16-5v-6c0 2.761-7.163 5-16 5z\"></path>\n",
       "</symbol>\n",
       "<symbol id=\"icon-file-text2\" viewBox=\"0 0 32 32\">\n",
       "<path d=\"M28.681 7.159c-0.694-0.947-1.662-2.053-2.724-3.116s-2.169-2.030-3.116-2.724c-1.612-1.182-2.393-1.319-2.841-1.319h-15.5c-1.378 0-2.5 1.121-2.5 2.5v27c0 1.378 1.122 2.5 2.5 2.5h23c1.378 0 2.5-1.122 2.5-2.5v-19.5c0-0.448-0.137-1.23-1.319-2.841zM24.543 5.457c0.959 0.959 1.712 1.825 2.268 2.543h-4.811v-4.811c0.718 0.556 1.584 1.309 2.543 2.268zM28 29.5c0 0.271-0.229 0.5-0.5 0.5h-23c-0.271 0-0.5-0.229-0.5-0.5v-27c0-0.271 0.229-0.5 0.5-0.5 0 0 15.499-0 15.5 0v7c0 0.552 0.448 1 1 1h7v19.5z\"></path>\n",
       "<path d=\"M23 26h-14c-0.552 0-1-0.448-1-1s0.448-1 1-1h14c0.552 0 1 0.448 1 1s-0.448 1-1 1z\"></path>\n",
       "<path d=\"M23 22h-14c-0.552 0-1-0.448-1-1s0.448-1 1-1h14c0.552 0 1 0.448 1 1s-0.448 1-1 1z\"></path>\n",
       "<path d=\"M23 18h-14c-0.552 0-1-0.448-1-1s0.448-1 1-1h14c0.552 0 1 0.448 1 1s-0.448 1-1 1z\"></path>\n",
       "</symbol>\n",
       "</defs>\n",
       "</svg>\n",
       "<style>/* CSS stylesheet for displaying xarray objects in jupyterlab.\n",
       " *\n",
       " */\n",
       "\n",
       ":root {\n",
       "  --xr-font-color0: var(--jp-content-font-color0, rgba(0, 0, 0, 1));\n",
       "  --xr-font-color2: var(--jp-content-font-color2, rgba(0, 0, 0, 0.54));\n",
       "  --xr-font-color3: var(--jp-content-font-color3, rgba(0, 0, 0, 0.38));\n",
       "  --xr-border-color: var(--jp-border-color2, #e0e0e0);\n",
       "  --xr-disabled-color: var(--jp-layout-color3, #bdbdbd);\n",
       "  --xr-background-color: var(--jp-layout-color0, white);\n",
       "  --xr-background-color-row-even: var(--jp-layout-color1, white);\n",
       "  --xr-background-color-row-odd: var(--jp-layout-color2, #eeeeee);\n",
       "}\n",
       "\n",
       "html[theme=dark],\n",
       "body.vscode-dark {\n",
       "  --xr-font-color0: rgba(255, 255, 255, 1);\n",
       "  --xr-font-color2: rgba(255, 255, 255, 0.54);\n",
       "  --xr-font-color3: rgba(255, 255, 255, 0.38);\n",
       "  --xr-border-color: #1F1F1F;\n",
       "  --xr-disabled-color: #515151;\n",
       "  --xr-background-color: #111111;\n",
       "  --xr-background-color-row-even: #111111;\n",
       "  --xr-background-color-row-odd: #313131;\n",
       "}\n",
       "\n",
       ".xr-wrap {\n",
       "  display: block;\n",
       "  min-width: 300px;\n",
       "  max-width: 700px;\n",
       "}\n",
       "\n",
       ".xr-text-repr-fallback {\n",
       "  /* fallback to plain text repr when CSS is not injected (untrusted notebook) */\n",
       "  display: none;\n",
       "}\n",
       "\n",
       ".xr-header {\n",
       "  padding-top: 6px;\n",
       "  padding-bottom: 6px;\n",
       "  margin-bottom: 4px;\n",
       "  border-bottom: solid 1px var(--xr-border-color);\n",
       "}\n",
       "\n",
       ".xr-header > div,\n",
       ".xr-header > ul {\n",
       "  display: inline;\n",
       "  margin-top: 0;\n",
       "  margin-bottom: 0;\n",
       "}\n",
       "\n",
       ".xr-obj-type,\n",
       ".xr-array-name {\n",
       "  margin-left: 2px;\n",
       "  margin-right: 10px;\n",
       "}\n",
       "\n",
       ".xr-obj-type {\n",
       "  color: var(--xr-font-color2);\n",
       "}\n",
       "\n",
       ".xr-sections {\n",
       "  padding-left: 0 !important;\n",
       "  display: grid;\n",
       "  grid-template-columns: 150px auto auto 1fr 20px 20px;\n",
       "}\n",
       "\n",
       ".xr-section-item {\n",
       "  display: contents;\n",
       "}\n",
       "\n",
       ".xr-section-item input {\n",
       "  display: none;\n",
       "}\n",
       "\n",
       ".xr-section-item input + label {\n",
       "  color: var(--xr-disabled-color);\n",
       "}\n",
       "\n",
       ".xr-section-item input:enabled + label {\n",
       "  cursor: pointer;\n",
       "  color: var(--xr-font-color2);\n",
       "}\n",
       "\n",
       ".xr-section-item input:enabled + label:hover {\n",
       "  color: var(--xr-font-color0);\n",
       "}\n",
       "\n",
       ".xr-section-summary {\n",
       "  grid-column: 1;\n",
       "  color: var(--xr-font-color2);\n",
       "  font-weight: 500;\n",
       "}\n",
       "\n",
       ".xr-section-summary > span {\n",
       "  display: inline-block;\n",
       "  padding-left: 0.5em;\n",
       "}\n",
       "\n",
       ".xr-section-summary-in:disabled + label {\n",
       "  color: var(--xr-font-color2);\n",
       "}\n",
       "\n",
       ".xr-section-summary-in + label:before {\n",
       "  display: inline-block;\n",
       "  content: '►';\n",
       "  font-size: 11px;\n",
       "  width: 15px;\n",
       "  text-align: center;\n",
       "}\n",
       "\n",
       ".xr-section-summary-in:disabled + label:before {\n",
       "  color: var(--xr-disabled-color);\n",
       "}\n",
       "\n",
       ".xr-section-summary-in:checked + label:before {\n",
       "  content: '▼';\n",
       "}\n",
       "\n",
       ".xr-section-summary-in:checked + label > span {\n",
       "  display: none;\n",
       "}\n",
       "\n",
       ".xr-section-summary,\n",
       ".xr-section-inline-details {\n",
       "  padding-top: 4px;\n",
       "  padding-bottom: 4px;\n",
       "}\n",
       "\n",
       ".xr-section-inline-details {\n",
       "  grid-column: 2 / -1;\n",
       "}\n",
       "\n",
       ".xr-section-details {\n",
       "  display: none;\n",
       "  grid-column: 1 / -1;\n",
       "  margin-bottom: 5px;\n",
       "}\n",
       "\n",
       ".xr-section-summary-in:checked ~ .xr-section-details {\n",
       "  display: contents;\n",
       "}\n",
       "\n",
       ".xr-array-wrap {\n",
       "  grid-column: 1 / -1;\n",
       "  display: grid;\n",
       "  grid-template-columns: 20px auto;\n",
       "}\n",
       "\n",
       ".xr-array-wrap > label {\n",
       "  grid-column: 1;\n",
       "  vertical-align: top;\n",
       "}\n",
       "\n",
       ".xr-preview {\n",
       "  color: var(--xr-font-color3);\n",
       "}\n",
       "\n",
       ".xr-array-preview,\n",
       ".xr-array-data {\n",
       "  padding: 0 5px !important;\n",
       "  grid-column: 2;\n",
       "}\n",
       "\n",
       ".xr-array-data,\n",
       ".xr-array-in:checked ~ .xr-array-preview {\n",
       "  display: none;\n",
       "}\n",
       "\n",
       ".xr-array-in:checked ~ .xr-array-data,\n",
       ".xr-array-preview {\n",
       "  display: inline-block;\n",
       "}\n",
       "\n",
       ".xr-dim-list {\n",
       "  display: inline-block !important;\n",
       "  list-style: none;\n",
       "  padding: 0 !important;\n",
       "  margin: 0;\n",
       "}\n",
       "\n",
       ".xr-dim-list li {\n",
       "  display: inline-block;\n",
       "  padding: 0;\n",
       "  margin: 0;\n",
       "}\n",
       "\n",
       ".xr-dim-list:before {\n",
       "  content: '(';\n",
       "}\n",
       "\n",
       ".xr-dim-list:after {\n",
       "  content: ')';\n",
       "}\n",
       "\n",
       ".xr-dim-list li:not(:last-child):after {\n",
       "  content: ',';\n",
       "  padding-right: 5px;\n",
       "}\n",
       "\n",
       ".xr-has-index {\n",
       "  font-weight: bold;\n",
       "}\n",
       "\n",
       ".xr-var-list,\n",
       ".xr-var-item {\n",
       "  display: contents;\n",
       "}\n",
       "\n",
       ".xr-var-item > div,\n",
       ".xr-var-item label,\n",
       ".xr-var-item > .xr-var-name span {\n",
       "  background-color: var(--xr-background-color-row-even);\n",
       "  margin-bottom: 0;\n",
       "}\n",
       "\n",
       ".xr-var-item > .xr-var-name:hover span {\n",
       "  padding-right: 5px;\n",
       "}\n",
       "\n",
       ".xr-var-list > li:nth-child(odd) > div,\n",
       ".xr-var-list > li:nth-child(odd) > label,\n",
       ".xr-var-list > li:nth-child(odd) > .xr-var-name span {\n",
       "  background-color: var(--xr-background-color-row-odd);\n",
       "}\n",
       "\n",
       ".xr-var-name {\n",
       "  grid-column: 1;\n",
       "}\n",
       "\n",
       ".xr-var-dims {\n",
       "  grid-column: 2;\n",
       "}\n",
       "\n",
       ".xr-var-dtype {\n",
       "  grid-column: 3;\n",
       "  text-align: right;\n",
       "  color: var(--xr-font-color2);\n",
       "}\n",
       "\n",
       ".xr-var-preview {\n",
       "  grid-column: 4;\n",
       "}\n",
       "\n",
       ".xr-var-name,\n",
       ".xr-var-dims,\n",
       ".xr-var-dtype,\n",
       ".xr-preview,\n",
       ".xr-attrs dt {\n",
       "  white-space: nowrap;\n",
       "  overflow: hidden;\n",
       "  text-overflow: ellipsis;\n",
       "  padding-right: 10px;\n",
       "}\n",
       "\n",
       ".xr-var-name:hover,\n",
       ".xr-var-dims:hover,\n",
       ".xr-var-dtype:hover,\n",
       ".xr-attrs dt:hover {\n",
       "  overflow: visible;\n",
       "  width: auto;\n",
       "  z-index: 1;\n",
       "}\n",
       "\n",
       ".xr-var-attrs,\n",
       ".xr-var-data {\n",
       "  display: none;\n",
       "  background-color: var(--xr-background-color) !important;\n",
       "  padding-bottom: 5px !important;\n",
       "}\n",
       "\n",
       ".xr-var-attrs-in:checked ~ .xr-var-attrs,\n",
       ".xr-var-data-in:checked ~ .xr-var-data {\n",
       "  display: block;\n",
       "}\n",
       "\n",
       ".xr-var-data > table {\n",
       "  float: right;\n",
       "}\n",
       "\n",
       ".xr-var-name span,\n",
       ".xr-var-data,\n",
       ".xr-attrs {\n",
       "  padding-left: 25px !important;\n",
       "}\n",
       "\n",
       ".xr-attrs,\n",
       ".xr-var-attrs,\n",
       ".xr-var-data {\n",
       "  grid-column: 1 / -1;\n",
       "}\n",
       "\n",
       "dl.xr-attrs {\n",
       "  padding: 0;\n",
       "  margin: 0;\n",
       "  display: grid;\n",
       "  grid-template-columns: 125px auto;\n",
       "}\n",
       "\n",
       ".xr-attrs dt,\n",
       ".xr-attrs dd {\n",
       "  padding: 0;\n",
       "  margin: 0;\n",
       "  float: left;\n",
       "  padding-right: 10px;\n",
       "  width: auto;\n",
       "}\n",
       "\n",
       ".xr-attrs dt {\n",
       "  font-weight: normal;\n",
       "  grid-column: 1;\n",
       "}\n",
       "\n",
       ".xr-attrs dt:hover span {\n",
       "  display: inline-block;\n",
       "  background: var(--xr-background-color);\n",
       "  padding-right: 10px;\n",
       "}\n",
       "\n",
       ".xr-attrs dd {\n",
       "  grid-column: 2;\n",
       "  white-space: pre-wrap;\n",
       "  word-break: break-all;\n",
       "}\n",
       "\n",
       ".xr-icon-database,\n",
       ".xr-icon-file-text2 {\n",
       "  display: inline-block;\n",
       "  vertical-align: middle;\n",
       "  width: 1em;\n",
       "  height: 1.5em !important;\n",
       "  stroke-width: 0;\n",
       "  stroke: currentColor;\n",
       "  fill: currentColor;\n",
       "}\n",
       "</style><pre class='xr-text-repr-fallback'>&lt;xarray.DataArray &#x27;ndvi&#x27; (lat: 3105, lon: 600, time: 482)&gt;\n",
       "dask.array&lt;rechunk-merge, shape=(3105, 600, 482), dtype=float32, chunksize=(1000, 100, 482), chunktype=numpy.ndarray&gt;\n",
       "Coordinates:\n",
       "  * time      (time) object 2000-02-18 00:00:00 ... 2020-12-18 00:00:00\n",
       "  * lat       (lat) float64 49.92 49.91 49.9 49.9 ... 24.08 24.07 24.06 24.05\n",
       "  * lon       (lon) float64 -75.0 -74.99 -74.98 -74.97 ... -70.02 -70.01 -70.0\n",
       "    quantile  (time) float64 dask.array&lt;chunksize=(482,), meta=np.ndarray&gt;</pre><div class='xr-wrap' hidden><div class='xr-header'><div class='xr-obj-type'>xarray.DataArray</div><div class='xr-array-name'>'ndvi'</div><ul class='xr-dim-list'><li><span class='xr-has-index'>lat</span>: 3105</li><li><span class='xr-has-index'>lon</span>: 600</li><li><span class='xr-has-index'>time</span>: 482</li></ul></div><ul class='xr-sections'><li class='xr-section-item'><div class='xr-array-wrap'><input id='section-97704cfe-9a27-469f-aab2-583a9a1f6859' class='xr-array-in' type='checkbox' checked><label for='section-97704cfe-9a27-469f-aab2-583a9a1f6859' title='Show/hide data repr'><svg class='icon xr-icon-database'><use xlink:href='#icon-database'></use></svg></label><div class='xr-array-preview xr-preview'><span>dask.array&lt;chunksize=(1000, 100, 482), meta=np.ndarray&gt;</span></div><div class='xr-array-data'><table>\n",
       "<tr>\n",
       "<td>\n",
       "<table>\n",
       "  <thead>\n",
       "    <tr><td> </td><th> Array </th><th> Chunk </th></tr>\n",
       "  </thead>\n",
       "  <tbody>\n",
       "    <tr><th> Bytes </th><td> 3.35 GiB </td> <td> 183.87 MiB </td></tr>\n",
       "    <tr><th> Shape </th><td> (3105, 600, 482) </td> <td> (1000, 100, 482) </td></tr>\n",
       "    <tr><th> Count </th><td> 1154 Tasks </td><td> 24 Chunks </td></tr>\n",
       "    <tr><th> Type </th><td> float32 </td><td> numpy.ndarray </td></tr>\n",
       "  </tbody>\n",
       "</table>\n",
       "</td>\n",
       "<td>\n",
       "<svg width=\"171\" height=\"162\" style=\"stroke:rgb(0,0,0);stroke-width:1\" >\n",
       "\n",
       "  <!-- Horizontal lines -->\n",
       "  <line x1=\"10\" y1=\"0\" x2=\"80\" y2=\"70\" style=\"stroke-width:2\" />\n",
       "  <line x1=\"10\" y1=\"6\" x2=\"80\" y2=\"77\" />\n",
       "  <line x1=\"10\" y1=\"13\" x2=\"80\" y2=\"84\" />\n",
       "  <line x1=\"10\" y1=\"20\" x2=\"80\" y2=\"91\" />\n",
       "  <line x1=\"10\" y1=\"27\" x2=\"80\" y2=\"98\" />\n",
       "  <line x1=\"10\" y1=\"34\" x2=\"80\" y2=\"105\" />\n",
       "  <line x1=\"10\" y1=\"41\" x2=\"80\" y2=\"112\" style=\"stroke-width:2\" />\n",
       "\n",
       "  <!-- Vertical lines -->\n",
       "  <line x1=\"10\" y1=\"0\" x2=\"10\" y2=\"41\" style=\"stroke-width:2\" />\n",
       "  <line x1=\"32\" y1=\"22\" x2=\"32\" y2=\"64\" />\n",
       "  <line x1=\"55\" y1=\"45\" x2=\"55\" y2=\"87\" />\n",
       "  <line x1=\"78\" y1=\"68\" x2=\"78\" y2=\"110\" />\n",
       "  <line x1=\"80\" y1=\"70\" x2=\"80\" y2=\"112\" style=\"stroke-width:2\" />\n",
       "\n",
       "  <!-- Colored Rectangle -->\n",
       "  <polygon points=\"10.0,0.0 80.58823529411765,70.58823529411765 80.58823529411765,112.45146380653964 10.0,41.86322851242199\" style=\"fill:#ECB172A0;stroke-width:0\"/>\n",
       "\n",
       "  <!-- Horizontal lines -->\n",
       "  <line x1=\"10\" y1=\"0\" x2=\"50\" y2=\"0\" style=\"stroke-width:2\" />\n",
       "  <line x1=\"32\" y1=\"22\" x2=\"73\" y2=\"22\" />\n",
       "  <line x1=\"55\" y1=\"45\" x2=\"96\" y2=\"45\" />\n",
       "  <line x1=\"78\" y1=\"68\" x2=\"119\" y2=\"68\" />\n",
       "  <line x1=\"80\" y1=\"70\" x2=\"121\" y2=\"70\" style=\"stroke-width:2\" />\n",
       "\n",
       "  <!-- Vertical lines -->\n",
       "  <line x1=\"10\" y1=\"0\" x2=\"80\" y2=\"70\" style=\"stroke-width:2\" />\n",
       "  <line x1=\"50\" y1=\"0\" x2=\"121\" y2=\"70\" style=\"stroke-width:2\" />\n",
       "\n",
       "  <!-- Colored Rectangle -->\n",
       "  <polygon points=\"10.0,0.0 50.87077118299362,0.0 121.45900647711127,70.58823529411765 80.58823529411765,70.58823529411765\" style=\"fill:#ECB172A0;stroke-width:0\"/>\n",
       "\n",
       "  <!-- Horizontal lines -->\n",
       "  <line x1=\"80\" y1=\"70\" x2=\"121\" y2=\"70\" style=\"stroke-width:2\" />\n",
       "  <line x1=\"80\" y1=\"77\" x2=\"121\" y2=\"77\" />\n",
       "  <line x1=\"80\" y1=\"84\" x2=\"121\" y2=\"84\" />\n",
       "  <line x1=\"80\" y1=\"91\" x2=\"121\" y2=\"91\" />\n",
       "  <line x1=\"80\" y1=\"98\" x2=\"121\" y2=\"98\" />\n",
       "  <line x1=\"80\" y1=\"105\" x2=\"121\" y2=\"105\" />\n",
       "  <line x1=\"80\" y1=\"112\" x2=\"121\" y2=\"112\" style=\"stroke-width:2\" />\n",
       "\n",
       "  <!-- Vertical lines -->\n",
       "  <line x1=\"80\" y1=\"70\" x2=\"80\" y2=\"112\" style=\"stroke-width:2\" />\n",
       "  <line x1=\"121\" y1=\"70\" x2=\"121\" y2=\"112\" style=\"stroke-width:2\" />\n",
       "\n",
       "  <!-- Colored Rectangle -->\n",
       "  <polygon points=\"80.58823529411765,70.58823529411765 121.45900647711127,70.58823529411765 121.45900647711127,112.45146380653964 80.58823529411765,112.45146380653964\" style=\"fill:#ECB172A0;stroke-width:0\"/>\n",
       "\n",
       "  <!-- Text -->\n",
       "  <text x=\"101.023621\" y=\"132.451464\" font-size=\"1.0rem\" font-weight=\"100\" text-anchor=\"middle\" >482</text>\n",
       "  <text x=\"141.459006\" y=\"91.519850\" font-size=\"1.0rem\" font-weight=\"100\" text-anchor=\"middle\" transform=\"rotate(-90,141.459006,91.519850)\">600</text>\n",
       "  <text x=\"35.294118\" y=\"97.157346\" font-size=\"1.0rem\" font-weight=\"100\" text-anchor=\"middle\" transform=\"rotate(45,35.294118,97.157346)\">3105</text>\n",
       "</svg>\n",
       "</td>\n",
       "</tr>\n",
       "</table></div></div></li><li class='xr-section-item'><input id='section-4cfc6789-e85e-4172-b898-8c5dc72e42ba' class='xr-section-summary-in' type='checkbox'  checked><label for='section-4cfc6789-e85e-4172-b898-8c5dc72e42ba' class='xr-section-summary' >Coordinates: <span>(4)</span></label><div class='xr-section-inline-details'></div><div class='xr-section-details'><ul class='xr-var-list'><li class='xr-var-item'><div class='xr-var-name'><span class='xr-has-index'>time</span></div><div class='xr-var-dims'>(time)</div><div class='xr-var-dtype'>object</div><div class='xr-var-preview xr-preview'>2000-02-18 00:00:00 ... 2020-12-...</div><input id='attrs-8d09e0a5-c8c5-41e6-87b7-7fdb8e192a83' class='xr-var-attrs-in' type='checkbox' disabled><label for='attrs-8d09e0a5-c8c5-41e6-87b7-7fdb8e192a83' title='Show/Hide attributes'><svg class='icon xr-icon-file-text2'><use xlink:href='#icon-file-text2'></use></svg></label><input id='data-cbd03308-bcdd-48ce-90f0-f931e95bc67c' class='xr-var-data-in' type='checkbox'><label for='data-cbd03308-bcdd-48ce-90f0-f931e95bc67c' title='Show/Hide data repr'><svg class='icon xr-icon-database'><use xlink:href='#icon-database'></use></svg></label><div class='xr-var-attrs'><dl class='xr-attrs'></dl></div><div class='xr-var-data'><pre>array([cftime.DatetimeJulian(2000, 2, 18, 0, 0, 0, 0, has_year_zero=False),\n",
       "       cftime.DatetimeJulian(2000, 3, 5, 0, 0, 0, 0, has_year_zero=False),\n",
       "       cftime.DatetimeJulian(2000, 3, 21, 0, 0, 0, 0, has_year_zero=False),\n",
       "       ...,\n",
       "       cftime.DatetimeJulian(2020, 11, 16, 0, 0, 0, 0, has_year_zero=False),\n",
       "       cftime.DatetimeJulian(2020, 12, 2, 0, 0, 0, 0, has_year_zero=False),\n",
       "       cftime.DatetimeJulian(2020, 12, 18, 0, 0, 0, 0, has_year_zero=False)],\n",
       "      dtype=object)</pre></div></li><li class='xr-var-item'><div class='xr-var-name'><span class='xr-has-index'>lat</span></div><div class='xr-var-dims'>(lat)</div><div class='xr-var-dtype'>float64</div><div class='xr-var-preview xr-preview'>49.92 49.91 49.9 ... 24.06 24.05</div><input id='attrs-423860fe-0570-4ff9-b122-3473d620cdf5' class='xr-var-attrs-in' type='checkbox' disabled><label for='attrs-423860fe-0570-4ff9-b122-3473d620cdf5' title='Show/Hide attributes'><svg class='icon xr-icon-file-text2'><use xlink:href='#icon-file-text2'></use></svg></label><input id='data-712ceeaa-405f-47c2-925c-01718b71cd92' class='xr-var-data-in' type='checkbox'><label for='data-712ceeaa-405f-47c2-925c-01718b71cd92' title='Show/Hide data repr'><svg class='icon xr-icon-database'><use xlink:href='#icon-database'></use></svg></label><div class='xr-var-attrs'><dl class='xr-attrs'></dl></div><div class='xr-var-data'><pre>array([49.920833, 49.9125  , 49.904167, ..., 24.070833, 24.0625  , 24.054167])</pre></div></li><li class='xr-var-item'><div class='xr-var-name'><span class='xr-has-index'>lon</span></div><div class='xr-var-dims'>(lon)</div><div class='xr-var-dtype'>float64</div><div class='xr-var-preview xr-preview'>-75.0 -74.99 ... -70.01 -70.0</div><input id='attrs-e9c3348c-0c97-4e3a-95ba-14b81a143a9e' class='xr-var-attrs-in' type='checkbox' disabled><label for='attrs-e9c3348c-0c97-4e3a-95ba-14b81a143a9e' title='Show/Hide attributes'><svg class='icon xr-icon-file-text2'><use xlink:href='#icon-file-text2'></use></svg></label><input id='data-fd758162-36b8-4ca7-8617-d8579267dbdd' class='xr-var-data-in' type='checkbox'><label for='data-fd758162-36b8-4ca7-8617-d8579267dbdd' title='Show/Hide data repr'><svg class='icon xr-icon-database'><use xlink:href='#icon-database'></use></svg></label><div class='xr-var-attrs'><dl class='xr-attrs'></dl></div><div class='xr-var-data'><pre>array([-74.995833, -74.9875  , -74.979167, ..., -70.020833, -70.0125  ,\n",
       "       -70.004167])</pre></div></li><li class='xr-var-item'><div class='xr-var-name'><span>quantile</span></div><div class='xr-var-dims'>(time)</div><div class='xr-var-dtype'>float64</div><div class='xr-var-preview xr-preview'>dask.array&lt;chunksize=(482,), meta=np.ndarray&gt;</div><input id='attrs-ea484dc0-ba1f-49d4-a1b5-55a406b8506b' class='xr-var-attrs-in' type='checkbox' disabled><label for='attrs-ea484dc0-ba1f-49d4-a1b5-55a406b8506b' title='Show/Hide attributes'><svg class='icon xr-icon-file-text2'><use xlink:href='#icon-file-text2'></use></svg></label><input id='data-46ac8596-545d-4627-91ad-30bc78dd4015' class='xr-var-data-in' type='checkbox'><label for='data-46ac8596-545d-4627-91ad-30bc78dd4015' title='Show/Hide data repr'><svg class='icon xr-icon-database'><use xlink:href='#icon-database'></use></svg></label><div class='xr-var-attrs'><dl class='xr-attrs'></dl></div><div class='xr-var-data'><table>\n",
       "<tr>\n",
       "<td>\n",
       "<table>\n",
       "  <thead>\n",
       "    <tr><td> </td><th> Array </th><th> Chunk </th></tr>\n",
       "  </thead>\n",
       "  <tbody>\n",
       "    <tr><th> Bytes </th><td> 3.77 kiB </td> <td> 3.77 kiB </td></tr>\n",
       "    <tr><th> Shape </th><td> (482,) </td> <td> (482,) </td></tr>\n",
       "    <tr><th> Count </th><td> 1 Tasks </td><td> 1 Chunks </td></tr>\n",
       "    <tr><th> Type </th><td> float64 </td><td> numpy.ndarray </td></tr>\n",
       "  </tbody>\n",
       "</table>\n",
       "</td>\n",
       "<td>\n",
       "<svg width=\"170\" height=\"75\" style=\"stroke:rgb(0,0,0);stroke-width:1\" >\n",
       "\n",
       "  <!-- Horizontal lines -->\n",
       "  <line x1=\"0\" y1=\"0\" x2=\"120\" y2=\"0\" style=\"stroke-width:2\" />\n",
       "  <line x1=\"0\" y1=\"25\" x2=\"120\" y2=\"25\" style=\"stroke-width:2\" />\n",
       "\n",
       "  <!-- Vertical lines -->\n",
       "  <line x1=\"0\" y1=\"0\" x2=\"0\" y2=\"25\" style=\"stroke-width:2\" />\n",
       "  <line x1=\"120\" y1=\"0\" x2=\"120\" y2=\"25\" style=\"stroke-width:2\" />\n",
       "\n",
       "  <!-- Colored Rectangle -->\n",
       "  <polygon points=\"0.0,0.0 120.0,0.0 120.0,25.412616514582485 0.0,25.412616514582485\" style=\"fill:#ECB172A0;stroke-width:0\"/>\n",
       "\n",
       "  <!-- Text -->\n",
       "  <text x=\"60.000000\" y=\"45.412617\" font-size=\"1.0rem\" font-weight=\"100\" text-anchor=\"middle\" >482</text>\n",
       "  <text x=\"140.000000\" y=\"12.706308\" font-size=\"1.0rem\" font-weight=\"100\" text-anchor=\"middle\" transform=\"rotate(0,140.000000,12.706308)\">1</text>\n",
       "</svg>\n",
       "</td>\n",
       "</tr>\n",
       "</table></div></li></ul></div></li><li class='xr-section-item'><input id='section-9416f1e7-bc41-4fee-94df-7961fc2e0a45' class='xr-section-summary-in' type='checkbox' disabled ><label for='section-9416f1e7-bc41-4fee-94df-7961fc2e0a45' class='xr-section-summary'  title='Expand/collapse section'>Attributes: <span>(0)</span></label><div class='xr-section-inline-details'></div><div class='xr-section-details'><dl class='xr-attrs'></dl></div></li></ul></div></div>"
      ],
      "text/plain": [
       "<xarray.DataArray 'ndvi' (lat: 3105, lon: 600, time: 482)>\n",
       "dask.array<rechunk-merge, shape=(3105, 600, 482), dtype=float32, chunksize=(1000, 100, 482), chunktype=numpy.ndarray>\n",
       "Coordinates:\n",
       "  * time      (time) object 2000-02-18 00:00:00 ... 2020-12-18 00:00:00\n",
       "  * lat       (lat) float64 49.92 49.91 49.9 49.9 ... 24.08 24.07 24.06 24.05\n",
       "  * lon       (lon) float64 -75.0 -74.99 -74.98 -74.97 ... -70.02 -70.01 -70.0\n",
       "    quantile  (time) float64 dask.array<chunksize=(482,), meta=np.ndarray>"
      ]
     },
     "execution_count": 14,
     "metadata": {},
     "output_type": "execute_result"
    }
   ],
   "source": [
    "ndvi_data"
   ]
  },
  {
   "cell_type": "code",
   "execution_count": 15,
   "id": "c08f56c2",
   "metadata": {},
   "outputs": [],
   "source": [
    "ndvi_mean = ndvi_data.mean(dim = 'time', skipna =True)"
   ]
  },
  {
   "cell_type": "markdown",
   "id": "baad24d7",
   "metadata": {},
   "source": [
    "# test functions"
   ]
  },
  {
   "cell_type": "code",
   "execution_count": 19,
   "id": "51e15597",
   "metadata": {},
   "outputs": [],
   "source": [
    "ndvi_year = ndvi_data.groupby('time.year')[2001]"
   ]
  },
  {
   "cell_type": "code",
   "execution_count": 26,
   "id": "d76f8e48",
   "metadata": {
    "scrolled": true
   },
   "outputs": [
    {
     "data": {
      "text/plain": [
       "array([120., 121., 127., 125., 364., 364., 263., 266.])"
      ]
     },
     "execution_count": 26,
     "metadata": {},
     "output_type": "execute_result"
    },
    {
     "data": {
      "image/png": "[encoded data removed]",
      "text/plain": [
       "<Figure size 432x288 with 1 Axes>"
      ]
     },
     "metadata": {
      "needs_background": "light"
     },
     "output_type": "display_data"
    }
   ],
   "source": [
    "point_data = ndvi_year[100,100,:].values\n",
    "point_data\n",
    "\n",
    "get_ndvi_phenology(point_data, 0.6)"
   ]
  },
  {
   "cell_type": "markdown",
   "id": "d31184b2",
   "metadata": {},
   "source": [
    "# get phenology by year"
   ]
  },
  {
   "cell_type": "code",
   "execution_count": 16,
   "id": "35b8af3f",
   "metadata": {
    "scrolled": true
   },
   "outputs": [
    {
     "name": "stdout",
     "output_type": "stream",
     "text": [
      "now calculting.... 2001\n",
      "[####################################    ] | 91% Completed | 54.2s"
     ]
    },
    {
     "name": "stderr",
     "output_type": "stream",
     "text": [
      "C:\\Users\\aithc\\.conda\\envs\\geo\\lib\\site-packages\\dask\\array\\numpy_compat.py:40: RuntimeWarning: invalid value encountered in true_divide\n",
      "  x = np.divide(x1, x2, out)\n"
     ]
    },
    {
     "name": "stdout",
     "output_type": "stream",
     "text": [
      "[######################################  ] | 95% Completed | 58.0s"
     ]
    },
    {
     "name": "stderr",
     "output_type": "stream",
     "text": [
      "C:\\Users\\aithc\\.conda\\envs\\geo\\lib\\site-packages\\ipykernel_launcher.py:2: RuntimeWarning: overflow encountered in exp\n",
      "  \n"
     ]
    },
    {
     "name": "stdout",
     "output_type": "stream",
     "text": [
      "[######################################  ] | 95% Completed |  1min 59.4s"
     ]
    },
    {
     "name": "stderr",
     "output_type": "stream",
     "text": [
      "C:\\Users\\aithc\\.conda\\envs\\geo\\lib\\site-packages\\ipykernel_launcher.py:3: RuntimeWarning: overflow encountered in exp\n",
      "  This is separate from the ipykernel package so we can avoid doing imports until\n"
     ]
    },
    {
     "name": "stdout",
     "output_type": "stream",
     "text": [
      "[######################################  ] | 95% Completed | 27min 15.1s"
     ]
    },
    {
     "name": "stderr",
     "output_type": "stream",
     "text": [
      "C:\\Users\\aithc\\.conda\\envs\\geo\\lib\\site-packages\\scipy\\optimize\\minpack.py:475: RuntimeWarning: Number of calls to function has reached maxfev = 1000000.\n",
      "  warnings.warn(errors[info][0], RuntimeWarning)\n"
     ]
    },
    {
     "name": "stdout",
     "output_type": "stream",
     "text": [
      "[########################################] | 100% Completed |  7hr 10min 24.1s\n",
      "now calculting.... 2002\n",
      "[####################################    ] | 91% Completed | 32.1s"
     ]
    },
    {
     "name": "stderr",
     "output_type": "stream",
     "text": [
      "C:\\Users\\aithc\\.conda\\envs\\geo\\lib\\site-packages\\dask\\array\\numpy_compat.py:40: RuntimeWarning: invalid value encountered in true_divide\n",
      "  x = np.divide(x1, x2, out)\n"
     ]
    },
    {
     "name": "stdout",
     "output_type": "stream",
     "text": [
      "[######################################  ] | 95% Completed | 34.5s"
     ]
    },
    {
     "name": "stderr",
     "output_type": "stream",
     "text": [
      "C:\\Users\\aithc\\.conda\\envs\\geo\\lib\\site-packages\\ipykernel_launcher.py:2: RuntimeWarning: overflow encountered in exp\n",
      "  \n"
     ]
    },
    {
     "name": "stdout",
     "output_type": "stream",
     "text": [
      "[######################################  ] | 95% Completed | 37.4s"
     ]
    },
    {
     "name": "stderr",
     "output_type": "stream",
     "text": [
      "C:\\Users\\aithc\\.conda\\envs\\geo\\lib\\site-packages\\ipykernel_launcher.py:3: RuntimeWarning: overflow encountered in exp\n",
      "  This is separate from the ipykernel package so we can avoid doing imports until\n"
     ]
    },
    {
     "name": "stdout",
     "output_type": "stream",
     "text": [
      "[######################################  ] | 95% Completed |  1hr  6min 24.3s"
     ]
    },
    {
     "name": "stderr",
     "output_type": "stream",
     "text": [
      "C:\\Users\\aithc\\.conda\\envs\\geo\\lib\\site-packages\\scipy\\optimize\\minpack.py:475: RuntimeWarning: Number of calls to function has reached maxfev = 1000000.\n",
      "  warnings.warn(errors[info][0], RuntimeWarning)\n"
     ]
    },
    {
     "name": "stdout",
     "output_type": "stream",
     "text": [
      "[########################################] | 100% Completed |  4hr 46min 56.1s\n",
      "now calculting.... 2003\n",
      "[####################################    ] | 91% Completed | 31.6s"
     ]
    },
    {
     "name": "stderr",
     "output_type": "stream",
     "text": [
      "C:\\Users\\aithc\\.conda\\envs\\geo\\lib\\site-packages\\dask\\array\\numpy_compat.py:40: RuntimeWarning: invalid value encountered in true_divide\n",
      "  x = np.divide(x1, x2, out)\n"
     ]
    },
    {
     "name": "stdout",
     "output_type": "stream",
     "text": [
      "[######################################  ] | 95% Completed | 34.0s"
     ]
    },
    {
     "name": "stderr",
     "output_type": "stream",
     "text": [
      "C:\\Users\\aithc\\.conda\\envs\\geo\\lib\\site-packages\\ipykernel_launcher.py:2: RuntimeWarning: overflow encountered in exp\n",
      "  \n"
     ]
    },
    {
     "name": "stdout",
     "output_type": "stream",
     "text": [
      "[######################################  ] | 95% Completed | 38.4s"
     ]
    },
    {
     "name": "stderr",
     "output_type": "stream",
     "text": [
      "C:\\Users\\aithc\\.conda\\envs\\geo\\lib\\site-packages\\ipykernel_launcher.py:3: RuntimeWarning: overflow encountered in exp\n",
      "  This is separate from the ipykernel package so we can avoid doing imports until\n"
     ]
    },
    {
     "name": "stdout",
     "output_type": "stream",
     "text": [
      "[######################################  ] | 95% Completed | 50min 22.8s"
     ]
    },
    {
     "name": "stderr",
     "output_type": "stream",
     "text": [
      "C:\\Users\\aithc\\.conda\\envs\\geo\\lib\\site-packages\\scipy\\optimize\\minpack.py:475: RuntimeWarning: Number of calls to function has reached maxfev = 1000000.\n",
      "  warnings.warn(errors[info][0], RuntimeWarning)\n"
     ]
    },
    {
     "name": "stdout",
     "output_type": "stream",
     "text": [
      "[########################################] | 100% Completed |  5hr 35min 13.1s\n",
      "now calculting.... 2004\n",
      "[####################################    ] | 91% Completed | 43.2s"
     ]
    },
    {
     "name": "stderr",
     "output_type": "stream",
     "text": [
      "C:\\Users\\aithc\\.conda\\envs\\geo\\lib\\site-packages\\dask\\array\\numpy_compat.py:40: RuntimeWarning: invalid value encountered in true_divide\n",
      "  x = np.divide(x1, x2, out)\n"
     ]
    },
    {
     "name": "stdout",
     "output_type": "stream",
     "text": [
      "[######################################  ] | 95% Completed | 46.7s"
     ]
    },
    {
     "name": "stderr",
     "output_type": "stream",
     "text": [
      "C:\\Users\\aithc\\.conda\\envs\\geo\\lib\\site-packages\\ipykernel_launcher.py:2: RuntimeWarning: overflow encountered in exp\n",
      "  \n"
     ]
    },
    {
     "name": "stdout",
     "output_type": "stream",
     "text": [
      "[######################################  ] | 95% Completed | 51.5s"
     ]
    },
    {
     "name": "stderr",
     "output_type": "stream",
     "text": [
      "C:\\Users\\aithc\\.conda\\envs\\geo\\lib\\site-packages\\ipykernel_launcher.py:3: RuntimeWarning: overflow encountered in exp\n",
      "  This is separate from the ipykernel package so we can avoid doing imports until\n"
     ]
    },
    {
     "name": "stdout",
     "output_type": "stream",
     "text": [
      "[######################################  ] | 95% Completed |  3hr 25min  1.1s"
     ]
    },
    {
     "name": "stderr",
     "output_type": "stream",
     "text": [
      "C:\\Users\\aithc\\.conda\\envs\\geo\\lib\\site-packages\\scipy\\optimize\\minpack.py:475: RuntimeWarning: Number of calls to function has reached maxfev = 1000000.\n",
      "  warnings.warn(errors[info][0], RuntimeWarning)\n"
     ]
    },
    {
     "name": "stdout",
     "output_type": "stream",
     "text": [
      "[########################################] | 100% Completed |  5hr 50min 48.2s\n",
      "now calculting.... 2005\n",
      "[####################################    ] | 90% Completed | 38.2s"
     ]
    },
    {
     "name": "stderr",
     "output_type": "stream",
     "text": [
      "C:\\Users\\aithc\\.conda\\envs\\geo\\lib\\site-packages\\dask\\array\\numpy_compat.py:40: RuntimeWarning: invalid value encountered in true_divide\n",
      "  x = np.divide(x1, x2, out)\n"
     ]
    },
    {
     "name": "stdout",
     "output_type": "stream",
     "text": [
      "[######################################  ] | 95% Completed | 41.2s"
     ]
    },
    {
     "name": "stderr",
     "output_type": "stream",
     "text": [
      "C:\\Users\\aithc\\.conda\\envs\\geo\\lib\\site-packages\\ipykernel_launcher.py:2: RuntimeWarning: overflow encountered in exp\n",
      "  \n"
     ]
    },
    {
     "name": "stdout",
     "output_type": "stream",
     "text": [
      "[######################################  ] | 95% Completed |  1min 19.7s"
     ]
    },
    {
     "name": "stderr",
     "output_type": "stream",
     "text": [
      "C:\\Users\\aithc\\.conda\\envs\\geo\\lib\\site-packages\\ipykernel_launcher.py:3: RuntimeWarning: overflow encountered in exp\n",
      "  This is separate from the ipykernel package so we can avoid doing imports until\n"
     ]
    },
    {
     "name": "stdout",
     "output_type": "stream",
     "text": [
      "[######################################  ] | 95% Completed | 16min 26.9s"
     ]
    },
    {
     "name": "stderr",
     "output_type": "stream",
     "text": [
      "C:\\Users\\aithc\\.conda\\envs\\geo\\lib\\site-packages\\scipy\\optimize\\minpack.py:475: RuntimeWarning: Number of calls to function has reached maxfev = 1000000.\n",
      "  warnings.warn(errors[info][0], RuntimeWarning)\n"
     ]
    },
    {
     "name": "stdout",
     "output_type": "stream",
     "text": [
      "[########################################] | 100% Completed |  4hr  9min 34.2s\n",
      "now calculting.... 2006\n",
      "[####################################    ] | 90% Completed |  1min 20.9s"
     ]
    },
    {
     "name": "stderr",
     "output_type": "stream",
     "text": [
      "C:\\Users\\aithc\\.conda\\envs\\geo\\lib\\site-packages\\dask\\array\\numpy_compat.py:40: RuntimeWarning: invalid value encountered in true_divide\n",
      "  x = np.divide(x1, x2, out)\n"
     ]
    },
    {
     "name": "stdout",
     "output_type": "stream",
     "text": [
      "[######################################  ] | 95% Completed |  1min 26.5s"
     ]
    },
    {
     "name": "stderr",
     "output_type": "stream",
     "text": [
      "C:\\Users\\aithc\\.conda\\envs\\geo\\lib\\site-packages\\ipykernel_launcher.py:2: RuntimeWarning: overflow encountered in exp\n",
      "  \n"
     ]
    },
    {
     "name": "stdout",
     "output_type": "stream",
     "text": [
      "[######################################  ] | 95% Completed |  1min 55.2s"
     ]
    },
    {
     "name": "stderr",
     "output_type": "stream",
     "text": [
      "C:\\Users\\aithc\\.conda\\envs\\geo\\lib\\site-packages\\ipykernel_launcher.py:3: RuntimeWarning: overflow encountered in exp\n",
      "  This is separate from the ipykernel package so we can avoid doing imports until\n"
     ]
    },
    {
     "name": "stdout",
     "output_type": "stream",
     "text": [
      "[######################################  ] | 95% Completed |  2hr  5min 45.7s"
     ]
    },
    {
     "name": "stderr",
     "output_type": "stream",
     "text": [
      "C:\\Users\\aithc\\.conda\\envs\\geo\\lib\\site-packages\\scipy\\optimize\\minpack.py:475: RuntimeWarning: Number of calls to function has reached maxfev = 1000000.\n",
      "  warnings.warn(errors[info][0], RuntimeWarning)\n"
     ]
    },
    {
     "name": "stdout",
     "output_type": "stream",
     "text": [
      "[########################################] | 100% Completed | 12hr 22min  9.3s\n",
      "now calculting.... 2007\n",
      "[####################################    ] | 91% Completed | 32.8s"
     ]
    },
    {
     "name": "stderr",
     "output_type": "stream",
     "text": [
      "C:\\Users\\aithc\\.conda\\envs\\geo\\lib\\site-packages\\dask\\array\\numpy_compat.py:40: RuntimeWarning: invalid value encountered in true_divide\n",
      "  x = np.divide(x1, x2, out)\n"
     ]
    },
    {
     "name": "stdout",
     "output_type": "stream",
     "text": [
      "[######################################  ] | 95% Completed | 35.4s"
     ]
    },
    {
     "name": "stderr",
     "output_type": "stream",
     "text": [
      "C:\\Users\\aithc\\.conda\\envs\\geo\\lib\\site-packages\\ipykernel_launcher.py:2: RuntimeWarning: overflow encountered in exp\n",
      "  \n"
     ]
    },
    {
     "name": "stdout",
     "output_type": "stream",
     "text": [
      "[######################################  ] | 95% Completed | 45.9s"
     ]
    },
    {
     "name": "stderr",
     "output_type": "stream",
     "text": [
      "C:\\Users\\aithc\\.conda\\envs\\geo\\lib\\site-packages\\ipykernel_launcher.py:3: RuntimeWarning: overflow encountered in exp\n",
      "  This is separate from the ipykernel package so we can avoid doing imports until\n"
     ]
    },
    {
     "name": "stdout",
     "output_type": "stream",
     "text": [
      "[######################################  ] | 95% Completed | 41min 59.2s"
     ]
    },
    {
     "name": "stderr",
     "output_type": "stream",
     "text": [
      "C:\\Users\\aithc\\.conda\\envs\\geo\\lib\\site-packages\\scipy\\optimize\\minpack.py:475: RuntimeWarning: Number of calls to function has reached maxfev = 1000000.\n",
      "  warnings.warn(errors[info][0], RuntimeWarning)\n"
     ]
    },
    {
     "name": "stdout",
     "output_type": "stream",
     "text": [
      "[########################################] | 100% Completed |  3hr  0min 10.9s\n",
      "now calculting.... 2008\n",
      "[####################################    ] | 90% Completed | 35.5s"
     ]
    },
    {
     "name": "stderr",
     "output_type": "stream",
     "text": [
      "C:\\Users\\aithc\\.conda\\envs\\geo\\lib\\site-packages\\dask\\array\\numpy_compat.py:40: RuntimeWarning: invalid value encountered in true_divide\n",
      "  x = np.divide(x1, x2, out)\n"
     ]
    },
    {
     "name": "stdout",
     "output_type": "stream",
     "text": [
      "[######################################  ] | 95% Completed | 38.4s"
     ]
    },
    {
     "name": "stderr",
     "output_type": "stream",
     "text": [
      "C:\\Users\\aithc\\.conda\\envs\\geo\\lib\\site-packages\\ipykernel_launcher.py:2: RuntimeWarning: overflow encountered in exp\n",
      "  \n"
     ]
    },
    {
     "name": "stdout",
     "output_type": "stream",
     "text": [
      "[######################################  ] | 95% Completed | 41.8s"
     ]
    },
    {
     "name": "stderr",
     "output_type": "stream",
     "text": [
      "C:\\Users\\aithc\\.conda\\envs\\geo\\lib\\site-packages\\ipykernel_launcher.py:3: RuntimeWarning: overflow encountered in exp\n",
      "  This is separate from the ipykernel package so we can avoid doing imports until\n"
     ]
    },
    {
     "name": "stdout",
     "output_type": "stream",
     "text": [
      "[######################################  ] | 95% Completed |  6min 36.0s"
     ]
    },
    {
     "name": "stderr",
     "output_type": "stream",
     "text": [
      "C:\\Users\\aithc\\.conda\\envs\\geo\\lib\\site-packages\\scipy\\optimize\\minpack.py:475: RuntimeWarning: Number of calls to function has reached maxfev = 1000000.\n",
      "  warnings.warn(errors[info][0], RuntimeWarning)\n"
     ]
    },
    {
     "name": "stdout",
     "output_type": "stream",
     "text": [
      "[########################################] | 100% Completed |  4hr 53min 16.2s\n",
      "now calculting.... 2009\n",
      "[####################################    ] | 90% Completed | 44.7s"
     ]
    },
    {
     "name": "stderr",
     "output_type": "stream",
     "text": [
      "C:\\Users\\aithc\\.conda\\envs\\geo\\lib\\site-packages\\dask\\array\\numpy_compat.py:40: RuntimeWarning: invalid value encountered in true_divide\n",
      "  x = np.divide(x1, x2, out)\n"
     ]
    },
    {
     "name": "stdout",
     "output_type": "stream",
     "text": [
      "[######################################  ] | 95% Completed | 53.7s"
     ]
    },
    {
     "name": "stderr",
     "output_type": "stream",
     "text": [
      "C:\\Users\\aithc\\.conda\\envs\\geo\\lib\\site-packages\\ipykernel_launcher.py:2: RuntimeWarning: overflow encountered in exp\n",
      "  \n"
     ]
    },
    {
     "name": "stdout",
     "output_type": "stream",
     "text": [
      "[######################################  ] | 95% Completed |  1min 11.9s"
     ]
    },
    {
     "name": "stderr",
     "output_type": "stream",
     "text": [
      "C:\\Users\\aithc\\.conda\\envs\\geo\\lib\\site-packages\\ipykernel_launcher.py:3: RuntimeWarning: overflow encountered in exp\n",
      "  This is separate from the ipykernel package so we can avoid doing imports until\n"
     ]
    },
    {
     "name": "stdout",
     "output_type": "stream",
     "text": [
      "[######################################  ] | 95% Completed |  1hr 29min 34.4s"
     ]
    },
    {
     "name": "stderr",
     "output_type": "stream",
     "text": [
      "C:\\Users\\aithc\\.conda\\envs\\geo\\lib\\site-packages\\scipy\\optimize\\minpack.py:475: RuntimeWarning: Number of calls to function has reached maxfev = 1000000.\n",
      "  warnings.warn(errors[info][0], RuntimeWarning)\n"
     ]
    },
    {
     "name": "stdout",
     "output_type": "stream",
     "text": [
      "[########################################] | 100% Completed |  9hr 51min  3.7s\n",
      "now calculting.... 2010\n",
      "[####################################    ] | 90% Completed | 33.4s"
     ]
    },
    {
     "name": "stderr",
     "output_type": "stream",
     "text": [
      "C:\\Users\\aithc\\.conda\\envs\\geo\\lib\\site-packages\\dask\\array\\numpy_compat.py:40: RuntimeWarning: invalid value encountered in true_divide\n",
      "  x = np.divide(x1, x2, out)\n"
     ]
    },
    {
     "name": "stdout",
     "output_type": "stream",
     "text": [
      "[######################################  ] | 95% Completed | 36.1s"
     ]
    },
    {
     "name": "stderr",
     "output_type": "stream",
     "text": [
      "C:\\Users\\aithc\\.conda\\envs\\geo\\lib\\site-packages\\ipykernel_launcher.py:2: RuntimeWarning: overflow encountered in exp\n",
      "  \n"
     ]
    },
    {
     "name": "stdout",
     "output_type": "stream",
     "text": [
      "[######################################  ] | 95% Completed |  2min 55.9s"
     ]
    },
    {
     "name": "stderr",
     "output_type": "stream",
     "text": [
      "C:\\Users\\aithc\\.conda\\envs\\geo\\lib\\site-packages\\ipykernel_launcher.py:3: RuntimeWarning: overflow encountered in exp\n",
      "  This is separate from the ipykernel package so we can avoid doing imports until\n"
     ]
    },
    {
     "name": "stdout",
     "output_type": "stream",
     "text": [
      "[######################################  ] | 95% Completed | 22min 26.5s"
     ]
    },
    {
     "name": "stderr",
     "output_type": "stream",
     "text": [
      "C:\\Users\\aithc\\.conda\\envs\\geo\\lib\\site-packages\\scipy\\optimize\\minpack.py:475: RuntimeWarning: Number of calls to function has reached maxfev = 1000000.\n",
      "  warnings.warn(errors[info][0], RuntimeWarning)\n"
     ]
    },
    {
     "name": "stdout",
     "output_type": "stream",
     "text": [
      "[########################################] | 100% Completed |  7hr 23min 13.1s\n",
      "now calculting.... 2011\n",
      "[####################################    ] | 90% Completed | 46.0s"
     ]
    },
    {
     "name": "stderr",
     "output_type": "stream",
     "text": [
      "C:\\Users\\aithc\\.conda\\envs\\geo\\lib\\site-packages\\dask\\array\\numpy_compat.py:40: RuntimeWarning: invalid value encountered in true_divide\n",
      "  x = np.divide(x1, x2, out)\n"
     ]
    },
    {
     "name": "stdout",
     "output_type": "stream",
     "text": [
      "[######################################  ] | 95% Completed | 49.6s"
     ]
    },
    {
     "name": "stderr",
     "output_type": "stream",
     "text": [
      "C:\\Users\\aithc\\.conda\\envs\\geo\\lib\\site-packages\\ipykernel_launcher.py:2: RuntimeWarning: overflow encountered in exp\n",
      "  \n"
     ]
    },
    {
     "name": "stdout",
     "output_type": "stream",
     "text": [
      "[######################################  ] | 95% Completed |  1min  8.3s"
     ]
    },
    {
     "name": "stderr",
     "output_type": "stream",
     "text": [
      "C:\\Users\\aithc\\.conda\\envs\\geo\\lib\\site-packages\\ipykernel_launcher.py:3: RuntimeWarning: overflow encountered in exp\n",
      "  This is separate from the ipykernel package so we can avoid doing imports until\n"
     ]
    },
    {
     "name": "stdout",
     "output_type": "stream",
     "text": [
      "[######################################  ] | 95% Completed | 25min 37.4s"
     ]
    },
    {
     "name": "stderr",
     "output_type": "stream",
     "text": [
      "C:\\Users\\aithc\\.conda\\envs\\geo\\lib\\site-packages\\scipy\\optimize\\minpack.py:475: RuntimeWarning: Number of calls to function has reached maxfev = 1000000.\n",
      "  warnings.warn(errors[info][0], RuntimeWarning)\n"
     ]
    },
    {
     "name": "stdout",
     "output_type": "stream",
     "text": [
      "[########################################] | 100% Completed |  8hr 31min 14.3s\n",
      "now calculting.... 2012\n",
      "[####################################    ] | 90% Completed | 33.8s"
     ]
    },
    {
     "name": "stderr",
     "output_type": "stream",
     "text": [
      "C:\\Users\\aithc\\.conda\\envs\\geo\\lib\\site-packages\\dask\\array\\numpy_compat.py:40: RuntimeWarning: invalid value encountered in true_divide\n",
      "  x = np.divide(x1, x2, out)\n"
     ]
    },
    {
     "name": "stdout",
     "output_type": "stream",
     "text": [
      "[######################################  ] | 95% Completed | 36.4s"
     ]
    },
    {
     "name": "stderr",
     "output_type": "stream",
     "text": [
      "C:\\Users\\aithc\\.conda\\envs\\geo\\lib\\site-packages\\ipykernel_launcher.py:2: RuntimeWarning: overflow encountered in exp\n",
      "  \n"
     ]
    },
    {
     "name": "stdout",
     "output_type": "stream",
     "text": [
      "[######################################  ] | 95% Completed | 42.3s"
     ]
    },
    {
     "name": "stderr",
     "output_type": "stream",
     "text": [
      "C:\\Users\\aithc\\.conda\\envs\\geo\\lib\\site-packages\\ipykernel_launcher.py:3: RuntimeWarning: overflow encountered in exp\n",
      "  This is separate from the ipykernel package so we can avoid doing imports until\n"
     ]
    },
    {
     "name": "stdout",
     "output_type": "stream",
     "text": [
      "[######################################  ] | 95% Completed |  5min 54.1s"
     ]
    },
    {
     "name": "stderr",
     "output_type": "stream",
     "text": [
      "C:\\Users\\aithc\\.conda\\envs\\geo\\lib\\site-packages\\scipy\\optimize\\minpack.py:475: RuntimeWarning: Number of calls to function has reached maxfev = 1000000.\n",
      "  warnings.warn(errors[info][0], RuntimeWarning)\n"
     ]
    },
    {
     "name": "stdout",
     "output_type": "stream",
     "text": [
      "[########################################] | 100% Completed |  9hr 13min 42.5s\n",
      "now calculting.... 2013\n",
      "[####################################    ] | 91% Completed | 33.2s"
     ]
    },
    {
     "name": "stderr",
     "output_type": "stream",
     "text": [
      "C:\\Users\\aithc\\.conda\\envs\\geo\\lib\\site-packages\\dask\\array\\numpy_compat.py:40: RuntimeWarning: invalid value encountered in true_divide\n",
      "  x = np.divide(x1, x2, out)\n"
     ]
    },
    {
     "name": "stdout",
     "output_type": "stream",
     "text": [
      "[######################################  ] | 95% Completed | 35.5s"
     ]
    },
    {
     "name": "stderr",
     "output_type": "stream",
     "text": [
      "C:\\Users\\aithc\\.conda\\envs\\geo\\lib\\site-packages\\ipykernel_launcher.py:2: RuntimeWarning: overflow encountered in exp\n",
      "  \n"
     ]
    },
    {
     "name": "stdout",
     "output_type": "stream",
     "text": [
      "[######################################  ] | 95% Completed | 43.3s"
     ]
    },
    {
     "name": "stderr",
     "output_type": "stream",
     "text": [
      "C:\\Users\\aithc\\.conda\\envs\\geo\\lib\\site-packages\\ipykernel_launcher.py:3: RuntimeWarning: overflow encountered in exp\n",
      "  This is separate from the ipykernel package so we can avoid doing imports until\n"
     ]
    },
    {
     "name": "stdout",
     "output_type": "stream",
     "text": [
      "[######################################  ] | 95% Completed |  9min 17.3s"
     ]
    },
    {
     "name": "stderr",
     "output_type": "stream",
     "text": [
      "C:\\Users\\aithc\\.conda\\envs\\geo\\lib\\site-packages\\scipy\\optimize\\minpack.py:475: RuntimeWarning: Number of calls to function has reached maxfev = 1000000.\n",
      "  warnings.warn(errors[info][0], RuntimeWarning)\n"
     ]
    },
    {
     "name": "stdout",
     "output_type": "stream",
     "text": [
      "[########################################] | 100% Completed |  5hr 33min 22.1s\n",
      "now calculting.... 2014\n",
      "[####################################    ] | 91% Completed | 33.4s"
     ]
    },
    {
     "name": "stderr",
     "output_type": "stream",
     "text": [
      "C:\\Users\\aithc\\.conda\\envs\\geo\\lib\\site-packages\\dask\\array\\numpy_compat.py:40: RuntimeWarning: invalid value encountered in true_divide\n",
      "  x = np.divide(x1, x2, out)\n"
     ]
    },
    {
     "name": "stdout",
     "output_type": "stream",
     "text": [
      "[######################################  ] | 95% Completed | 36.4s"
     ]
    },
    {
     "name": "stderr",
     "output_type": "stream",
     "text": [
      "C:\\Users\\aithc\\.conda\\envs\\geo\\lib\\site-packages\\ipykernel_launcher.py:2: RuntimeWarning: overflow encountered in exp\n",
      "  \n"
     ]
    },
    {
     "name": "stdout",
     "output_type": "stream",
     "text": [
      "[######################################  ] | 95% Completed |  1min 16.2s"
     ]
    },
    {
     "name": "stderr",
     "output_type": "stream",
     "text": [
      "C:\\Users\\aithc\\.conda\\envs\\geo\\lib\\site-packages\\ipykernel_launcher.py:3: RuntimeWarning: overflow encountered in exp\n",
      "  This is separate from the ipykernel package so we can avoid doing imports until\n"
     ]
    },
    {
     "name": "stdout",
     "output_type": "stream",
     "text": [
      "[######################################  ] | 96% Completed |  3hr 50min  5.9s"
     ]
    },
    {
     "name": "stderr",
     "output_type": "stream",
     "text": [
      "C:\\Users\\aithc\\.conda\\envs\\geo\\lib\\site-packages\\scipy\\optimize\\minpack.py:475: RuntimeWarning: Number of calls to function has reached maxfev = 1000000.\n",
      "  warnings.warn(errors[info][0], RuntimeWarning)\n"
     ]
    },
    {
     "name": "stdout",
     "output_type": "stream",
     "text": [
      "[########################################] | 100% Completed |  5hr  4min 19.3s\n",
      "now calculting.... 2015\n",
      "[####################################    ] | 90% Completed | 32.5s"
     ]
    },
    {
     "name": "stderr",
     "output_type": "stream",
     "text": [
      "C:\\Users\\aithc\\.conda\\envs\\geo\\lib\\site-packages\\dask\\array\\numpy_compat.py:40: RuntimeWarning: invalid value encountered in true_divide\n",
      "  x = np.divide(x1, x2, out)\n"
     ]
    },
    {
     "name": "stdout",
     "output_type": "stream",
     "text": [
      "[######################################  ] | 95% Completed | 35.3s"
     ]
    },
    {
     "name": "stderr",
     "output_type": "stream",
     "text": [
      "C:\\Users\\aithc\\.conda\\envs\\geo\\lib\\site-packages\\ipykernel_launcher.py:2: RuntimeWarning: overflow encountered in exp\n",
      "  \n"
     ]
    },
    {
     "name": "stdout",
     "output_type": "stream",
     "text": [
      "[######################################  ] | 95% Completed | 39.1s"
     ]
    },
    {
     "name": "stderr",
     "output_type": "stream",
     "text": [
      "C:\\Users\\aithc\\.conda\\envs\\geo\\lib\\site-packages\\ipykernel_launcher.py:3: RuntimeWarning: overflow encountered in exp\n",
      "  This is separate from the ipykernel package so we can avoid doing imports until\n"
     ]
    },
    {
     "name": "stdout",
     "output_type": "stream",
     "text": [
      "[######################################  ] | 95% Completed |  3hr  2min 13.3s"
     ]
    },
    {
     "name": "stderr",
     "output_type": "stream",
     "text": [
      "C:\\Users\\aithc\\.conda\\envs\\geo\\lib\\site-packages\\scipy\\optimize\\minpack.py:475: RuntimeWarning: Number of calls to function has reached maxfev = 1000000.\n",
      "  warnings.warn(errors[info][0], RuntimeWarning)\n"
     ]
    },
    {
     "name": "stdout",
     "output_type": "stream",
     "text": [
      "[########################################] | 100% Completed |  5hr 21min 31.7s\n",
      "now calculting.... 2016\n",
      "[####################################    ] | 91% Completed | 30.0s"
     ]
    },
    {
     "name": "stderr",
     "output_type": "stream",
     "text": [
      "C:\\Users\\aithc\\.conda\\envs\\geo\\lib\\site-packages\\dask\\array\\numpy_compat.py:40: RuntimeWarning: invalid value encountered in true_divide\n",
      "  x = np.divide(x1, x2, out)\n"
     ]
    },
    {
     "name": "stdout",
     "output_type": "stream",
     "text": [
      "[######################################  ] | 95% Completed | 32.4s"
     ]
    },
    {
     "name": "stderr",
     "output_type": "stream",
     "text": [
      "C:\\Users\\aithc\\.conda\\envs\\geo\\lib\\site-packages\\ipykernel_launcher.py:2: RuntimeWarning: overflow encountered in exp\n",
      "  \n"
     ]
    },
    {
     "name": "stdout",
     "output_type": "stream",
     "text": [
      "[######################################  ] | 95% Completed |  2min 36.4s"
     ]
    },
    {
     "name": "stderr",
     "output_type": "stream",
     "text": [
      "C:\\Users\\aithc\\.conda\\envs\\geo\\lib\\site-packages\\ipykernel_launcher.py:3: RuntimeWarning: overflow encountered in exp\n",
      "  This is separate from the ipykernel package so we can avoid doing imports until\n"
     ]
    },
    {
     "name": "stdout",
     "output_type": "stream",
     "text": [
      "[######################################  ] | 95% Completed |  1hr  6min 55.0s"
     ]
    },
    {
     "name": "stderr",
     "output_type": "stream",
     "text": [
      "C:\\Users\\aithc\\.conda\\envs\\geo\\lib\\site-packages\\scipy\\optimize\\minpack.py:475: RuntimeWarning: Number of calls to function has reached maxfev = 1000000.\n",
      "  warnings.warn(errors[info][0], RuntimeWarning)\n"
     ]
    },
    {
     "name": "stdout",
     "output_type": "stream",
     "text": [
      "[########################################] | 100% Completed |  7hr 55min 31.7s\n",
      "now calculting.... 2017\n",
      "[####################################    ] | 91% Completed | 30.6s"
     ]
    },
    {
     "name": "stderr",
     "output_type": "stream",
     "text": [
      "C:\\Users\\aithc\\.conda\\envs\\geo\\lib\\site-packages\\dask\\array\\numpy_compat.py:40: RuntimeWarning: invalid value encountered in true_divide\n",
      "  x = np.divide(x1, x2, out)\n"
     ]
    },
    {
     "name": "stdout",
     "output_type": "stream",
     "text": [
      "[######################################  ] | 95% Completed | 33.2s"
     ]
    },
    {
     "name": "stderr",
     "output_type": "stream",
     "text": [
      "C:\\Users\\aithc\\.conda\\envs\\geo\\lib\\site-packages\\ipykernel_launcher.py:2: RuntimeWarning: overflow encountered in exp\n",
      "  \n"
     ]
    },
    {
     "name": "stdout",
     "output_type": "stream",
     "text": [
      "[######################################  ] | 95% Completed | 53.9s"
     ]
    },
    {
     "name": "stderr",
     "output_type": "stream",
     "text": [
      "C:\\Users\\aithc\\.conda\\envs\\geo\\lib\\site-packages\\ipykernel_launcher.py:3: RuntimeWarning: overflow encountered in exp\n",
      "  This is separate from the ipykernel package so we can avoid doing imports until\n"
     ]
    },
    {
     "name": "stdout",
     "output_type": "stream",
     "text": [
      "[######################################  ] | 95% Completed | 11min 40.4s"
     ]
    },
    {
     "name": "stderr",
     "output_type": "stream",
     "text": [
      "C:\\Users\\aithc\\.conda\\envs\\geo\\lib\\site-packages\\scipy\\optimize\\minpack.py:475: RuntimeWarning: Number of calls to function has reached maxfev = 1000000.\n",
      "  warnings.warn(errors[info][0], RuntimeWarning)\n"
     ]
    },
    {
     "name": "stdout",
     "output_type": "stream",
     "text": [
      "[########################################] | 100% Completed |  3hr 57min 44.3s\n",
      "now calculting.... 2018\n",
      "[####################################    ] | 90% Completed | 31.7s"
     ]
    },
    {
     "name": "stderr",
     "output_type": "stream",
     "text": [
      "C:\\Users\\aithc\\.conda\\envs\\geo\\lib\\site-packages\\dask\\array\\numpy_compat.py:40: RuntimeWarning: invalid value encountered in true_divide\n",
      "  x = np.divide(x1, x2, out)\n"
     ]
    },
    {
     "name": "stdout",
     "output_type": "stream",
     "text": [
      "[######################################  ] | 95% Completed | 34.4s"
     ]
    },
    {
     "name": "stderr",
     "output_type": "stream",
     "text": [
      "C:\\Users\\aithc\\.conda\\envs\\geo\\lib\\site-packages\\ipykernel_launcher.py:2: RuntimeWarning: overflow encountered in exp\n",
      "  \n"
     ]
    },
    {
     "name": "stdout",
     "output_type": "stream",
     "text": [
      "[######################################  ] | 95% Completed | 35.7s"
     ]
    },
    {
     "name": "stderr",
     "output_type": "stream",
     "text": [
      "C:\\Users\\aithc\\.conda\\envs\\geo\\lib\\site-packages\\ipykernel_launcher.py:3: RuntimeWarning: overflow encountered in exp\n",
      "  This is separate from the ipykernel package so we can avoid doing imports until\n"
     ]
    },
    {
     "name": "stdout",
     "output_type": "stream",
     "text": [
      "[######################################  ] | 95% Completed | 40min 51.5s"
     ]
    },
    {
     "name": "stderr",
     "output_type": "stream",
     "text": [
      "C:\\Users\\aithc\\.conda\\envs\\geo\\lib\\site-packages\\scipy\\optimize\\minpack.py:475: RuntimeWarning: Number of calls to function has reached maxfev = 1000000.\n",
      "  warnings.warn(errors[info][0], RuntimeWarning)\n"
     ]
    },
    {
     "name": "stdout",
     "output_type": "stream",
     "text": [
      "[########################################] | 100% Completed |  5hr 50min 42.0s\n",
      "now calculting.... 2019\n",
      "[####################################    ] | 90% Completed | 38.7s"
     ]
    },
    {
     "name": "stderr",
     "output_type": "stream",
     "text": [
      "C:\\Users\\aithc\\.conda\\envs\\geo\\lib\\site-packages\\dask\\array\\numpy_compat.py:40: RuntimeWarning: invalid value encountered in true_divide\n",
      "  x = np.divide(x1, x2, out)\n"
     ]
    },
    {
     "name": "stdout",
     "output_type": "stream",
     "text": [
      "[######################################  ] | 95% Completed | 41.4s"
     ]
    },
    {
     "name": "stderr",
     "output_type": "stream",
     "text": [
      "C:\\Users\\aithc\\.conda\\envs\\geo\\lib\\site-packages\\ipykernel_launcher.py:2: RuntimeWarning: overflow encountered in exp\n",
      "  \n"
     ]
    },
    {
     "name": "stdout",
     "output_type": "stream",
     "text": [
      "[######################################  ] | 95% Completed |  4min 56.7s"
     ]
    },
    {
     "name": "stderr",
     "output_type": "stream",
     "text": [
      "C:\\Users\\aithc\\.conda\\envs\\geo\\lib\\site-packages\\ipykernel_launcher.py:3: RuntimeWarning: overflow encountered in exp\n",
      "  This is separate from the ipykernel package so we can avoid doing imports until\n"
     ]
    },
    {
     "name": "stdout",
     "output_type": "stream",
     "text": [
      "[########################################] | 100% Completed |  5hr  7min 22.5s\n",
      "now calculting.... 2020\n",
      "[####################################    ] | 91% Completed | 50.1s"
     ]
    },
    {
     "name": "stderr",
     "output_type": "stream",
     "text": [
      "C:\\Users\\aithc\\.conda\\envs\\geo\\lib\\site-packages\\dask\\array\\numpy_compat.py:40: RuntimeWarning: invalid value encountered in true_divide\n",
      "  x = np.divide(x1, x2, out)\n"
     ]
    },
    {
     "name": "stdout",
     "output_type": "stream",
     "text": [
      "[######################################  ] | 95% Completed | 53.9s"
     ]
    },
    {
     "name": "stderr",
     "output_type": "stream",
     "text": [
      "C:\\Users\\aithc\\.conda\\envs\\geo\\lib\\site-packages\\ipykernel_launcher.py:2: RuntimeWarning: overflow encountered in exp\n",
      "  \n"
     ]
    },
    {
     "name": "stdout",
     "output_type": "stream",
     "text": [
      "[######################################  ] | 95% Completed |  3min 26.7s"
     ]
    },
    {
     "name": "stderr",
     "output_type": "stream",
     "text": [
      "C:\\Users\\aithc\\.conda\\envs\\geo\\lib\\site-packages\\ipykernel_launcher.py:3: RuntimeWarning: overflow encountered in exp\n",
      "  This is separate from the ipykernel package so we can avoid doing imports until\n"
     ]
    },
    {
     "name": "stdout",
     "output_type": "stream",
     "text": [
      "[######################################  ] | 95% Completed | 21min  9.9s"
     ]
    },
    {
     "name": "stderr",
     "output_type": "stream",
     "text": [
      "C:\\Users\\aithc\\.conda\\envs\\geo\\lib\\site-packages\\scipy\\optimize\\minpack.py:475: RuntimeWarning: Number of calls to function has reached maxfev = 1000000.\n",
      "  warnings.warn(errors[info][0], RuntimeWarning)\n"
     ]
    },
    {
     "name": "stdout",
     "output_type": "stream",
     "text": [
      "[########################################] | 100% Completed |  9hr  0min 10.0s\n"
     ]
    }
   ],
   "source": [
    "for year in range(start_year, end_year+1):\n",
    "    \n",
    "    print('now calculting....',year)\n",
    "    \n",
    "    ndvi_year = ndvi_data.groupby('time.year')[year]\n",
    "    \n",
    "    result = ndvi_pheno(ndvi_year, ndvi_mean)\n",
    "    \n",
    "    with ProgressBar():\n",
    "        result_phenos = result.compute()\n",
    "        \n",
    "    pheno_list = year*100 + np.asarray([11,12,13,14,21,22,23,24])\n",
    "    \n",
    "    result_phenos['pheno'] = pheno_list\n",
    "    result_phenos.name = 'phenology'\n",
    "    \n",
    "    result_phenos.to_netcdf(path = 'D:/aithc/phd/data/modis_ndvi/pheno/'+str(year)+lat_lon+'.nc',\n",
    "                           encoding = {'phenology':{'dtype':'int16','_FillValue':-9999,\n",
    "                                                   'zlib':True,'complevel':9}})"
   ]
  },
  {
   "cell_type": "code",
   "execution_count": 27,
   "id": "4ff4e4c6",
   "metadata": {},
   "outputs": [
    {
     "data": {
      "text/plain": [
       "0"
      ]
     },
     "execution_count": 27,
     "metadata": {},
     "output_type": "execute_result"
    }
   ],
   "source": []
  },
  {
   "cell_type": "code",
   "execution_count": null,
   "id": "1d0551d0",
   "metadata": {},
   "outputs": [],
   "source": []
  }
 ],
 "metadata": {
  "kernelspec": {
   "display_name": "geo",
   "language": "python",
   "name": "geo"
  },
  "language_info": {
   "codemirror_mode": {
    "name": "ipython",
    "version": 3
   },
   "file_extension": ".py",
   "mimetype": "text/x-python",
   "name": "python",
   "nbconvert_exporter": "python",
   "pygments_lexer": "ipython3",
   "version": "3.7.9"
  },
  "varInspector": {
   "cols": {
    "lenName": "20",
    "lenType": 16,
    "lenVar": 40
   },
   "kernels_config": {
    "python": {
     "delete_cmd_postfix": "",
     "delete_cmd_prefix": "del ",
     "library": "var_list.py",
     "varRefreshCmd": "print(var_dic_list())"
    },
    "r": {
     "delete_cmd_postfix": ") ",
     "delete_cmd_prefix": "rm(",
     "library": "var_list.r",
     "varRefreshCmd": "cat(var_dic_list()) "
    }
   },
   "types_to_exclude": [
    "module",
    "function",
    "builtin_function_or_method",
    "instance",
    "_Feature"
   ],
   "window_display": false
  }
 },
 "nbformat": 4,
 "nbformat_minor": 5
}
