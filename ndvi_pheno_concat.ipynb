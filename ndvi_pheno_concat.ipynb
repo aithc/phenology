{
 "cells": [
  {
   "cell_type": "code",
   "execution_count": null,
   "id": "9f4e44fd",
   "metadata": {},
   "outputs": [],
   "source": [
    "import xarray as xr\n",
    "import glob\n",
    "import matplotlib.pyplot as plt"
   ]
  },
  {
   "cell_type": "code",
   "execution_count": null,
   "id": "3e7e6786",
   "metadata": {},
   "outputs": [],
   "source": [
    "start_year = 1982\n",
    "end_year = 2015\n",
    "ndvi_pheno_path = r'file_path'"
   ]
  },
  {
   "cell_type": "code",
   "execution_count": null,
   "id": "9fcd8aa2",
   "metadata": {},
   "outputs": [],
   "source": [
    "def ndvi_pheno_concat(start_year,end_year,file_path) :\n",
    "    \n",
    "    ndvi_pheno_6030_all = []\n",
    "    ndvi_pheno_9060_all = []\n",
    "\n",
    "    for year in range(start_year,end_year+1):\n",
    "    \n",
    "        print(year)\n",
    "    \n",
    "        pheno_6030_path = glob.glob(file_path + str(year)+'*6030*.nc')\n",
    "        pheno_9060_path = glob.glob(file_path + str(year)+'*9060*.nc')\n",
    "    \n",
    "        ndvi_pheno_6030 = []\n",
    "        ndvi_pheno_9060 = []\n",
    "    \n",
    "        for path_6030_n  in pheno_6030_path:\n",
    "            print(path_6030_n)\n",
    "            pheno_6030_n = xr.open_dataset(path_6030_n)['phenology']\n",
    "            ndvi_pheno_6030.append(pheno_6030_n)\n",
    "    \n",
    "        for path_9060_n  in pheno_9060_path:\n",
    "            print(path_9060_n)\n",
    "            pheno_9060_n = xr.open_dataset(path_9060_n)['phenology']\n",
    "            ndvi_pheno_9060.append(pheno_9060_n)\n",
    "        \n",
    "        ndvi_pheno_6030 = xr.concat(ndvi_pheno_6030,dim = 'lon')\n",
    "        ndvi_pheno_9060 = xr.concat(ndvi_pheno_9060,dim = 'lon')\n",
    "    \n",
    "        ndvi_pheno_6030_all.append(ndvi_pheno_6030)\n",
    "        ndvi_pheno_9060_all.append(ndvi_pheno_9060)\n",
    "\n",
    "    ndvi_pheno_6030_all = xr.concat(ndvi_pheno_6030_all, dim = 'pheno')\n",
    "    ndvi_pheno_9060_all = xr.concat(ndvi_pheno_9060_all, dim = 'pheno')\n",
    "    \n",
    "    return [ndvi_pheno_6030_all,ndvi_pheno_9060_all]\n",
    "    "
   ]
  },
  {
   "cell_type": "code",
   "execution_count": null,
   "id": "1a130fd7",
   "metadata": {
    "scrolled": true
   },
   "outputs": [],
   "source": [
    "ndvi_pheno_9060_all.to_netcdf('file_path',\n",
    "                             encoding = {'phenology':{'dtype':'int16','_FillValue':-9999,\n",
    "                                                   'zlib':True,'complevel':9}})\n",
    "\n",
    "ndvi_pheno_6030_all.to_netcdf('file_path',\n",
    "                             encoding = {'phenology':{'dtype':'int16','_FillValue':-9999,\n",
    "                                                   'zlib':True,'complevel':9}})"
   ]
  },
  {
   "cell_type": "code",
   "execution_count": null,
   "id": "e649acc9",
   "metadata": {},
   "outputs": [],
   "source": [
    "ndvi_pheno_9060_all = xr.open_dataset(r'file_path')['phenology']\n",
    "ndvi_pheno_6030_all = xr.open_dataset(r'file_path')['phenology']"
   ]
  },
  {
   "cell_type": "code",
   "execution_count": null,
   "id": "f0074492",
   "metadata": {},
   "outputs": [],
   "source": [
    "ndvi_pheno_all = xr.concat([ndvi_pheno_9060_all,ndvi_pheno_6030_all], dim = 'lat')"
   ]
  },
  {
   "cell_type": "code",
   "execution_count": null,
   "id": "6b4fb8b2",
   "metadata": {
    "scrolled": true
   },
   "outputs": [],
   "source": [
    "ndvi_pheno_all.sel(pheno = 198211).plot()"
   ]
  },
  {
   "cell_type": "code",
   "execution_count": null,
   "id": "908327bd",
   "metadata": {},
   "outputs": [],
   "source": [
    "ndvi_pheno_all.to_netcdf('file_path',\n",
    "                             encoding = {'phenology':{'dtype':'int16','_FillValue':-9999,\n",
    "                                                   'zlib':True,'complevel':9}})"
   ]
  },
  {
   "cell_type": "markdown",
   "id": "ee02af47",
   "metadata": {},
   "source": [
    "## concat sif pheno"
   ]
  },
  {
   "cell_type": "code",
   "execution_count": null,
   "id": "6fb56f80",
   "metadata": {},
   "outputs": [],
   "source": [
    "s_year = 2001\n",
    "e_year = 2020\n",
    "sif_pheno_path = r'file_path'"
   ]
  },
  {
   "cell_type": "code",
   "execution_count": null,
   "id": "203c462b",
   "metadata": {},
   "outputs": [],
   "source": [
    "def sif_pheno_concat(start_year,end_year,file_path) :\n",
    "    \n",
    "    sif_pheno_all = []\n",
    "\n",
    "    for year in range(start_year,end_year+1):\n",
    "    \n",
    "        print(year)\n",
    "    \n",
    "        pheno_path = glob.glob(file_path +str(year)+'.nc')\n",
    "        print(pheno_path)\n",
    "        sif_pheno = []\n",
    "    \n",
    "        for path_n  in pheno_path:\n",
    "            print(path_n)\n",
    "            pheno_n = xr.open_dataset(path_n)['phenology']\n",
    "            sif_pheno.append(pheno_n)\n",
    "        \n",
    "        sif_pheno = xr.concat(sif_pheno,dim = 'lon')\n",
    "    \n",
    "        sif_pheno_all.append(sif_pheno)\n",
    "\n",
    "    sif_pheno_all = xr.concat(sif_pheno_all, dim = 'pheno')\n",
    "    \n",
    "    return sif_pheno_all"
   ]
  },
  {
   "cell_type": "code",
   "execution_count": null,
   "id": "0a05fde2",
   "metadata": {
    "scrolled": true
   },
   "outputs": [],
   "source": [
    "sif_pheno_all = sif_pheno_concat(s_year,e_year,sif_pheno_path)"
   ]
  },
  {
   "cell_type": "code",
   "execution_count": null,
   "id": "a3d385f3",
   "metadata": {
    "scrolled": true
   },
   "outputs": [],
   "source": [
    "sif_pheno_all"
   ]
  },
  {
   "cell_type": "code",
   "execution_count": null,
   "id": "f212da68",
   "metadata": {},
   "outputs": [],
   "source": [
    "sif_pheno_all.sel(pheno = 200112).plot()"
   ]
  },
  {
   "cell_type": "code",
   "execution_count": null,
   "id": "14f0b0fd",
   "metadata": {},
   "outputs": [],
   "source": [
    "import dask"
   ]
  },
  {
   "cell_type": "code",
   "execution_count": null,
   "id": "5622c5a2",
   "metadata": {},
   "outputs": [],
   "source": [
    "sif_pheno_all = sif_pheno_all.chunk({'lat':100,'lon':100})"
   ]
  },
  {
   "cell_type": "code",
   "execution_count": null,
   "id": "0534d296",
   "metadata": {},
   "outputs": [],
   "source": [
    "sif_pheno_all.to_netcdf('file_path',\n",
    "                             encoding = {'phenology':{'dtype':'int16','_FillValue':-9999,\n",
    "                                                   'zlib':True,'complevel':9}})"
   ]
  },
  {
   "cell_type": "code",
   "execution_count": null,
   "id": "d176ea14",
   "metadata": {},
   "outputs": [],
   "source": []
  }
 ],
 "metadata": {
  "kernelspec": {
   "display_name": "geo",
   "language": "python",
   "name": "geo"
  },
  "language_info": {
   "codemirror_mode": {
    "name": "ipython",
    "version": 3
   },
   "file_extension": ".py",
   "mimetype": "text/x-python",
   "name": "python",
   "nbconvert_exporter": "python",
   "pygments_lexer": "ipython3",
   "version": "3.7.9"
  },
  "varInspector": {
   "cols": {
    "lenName": "20",
    "lenType": 16,
    "lenVar": 40
   },
   "kernels_config": {
    "python": {
     "delete_cmd_postfix": "",
     "delete_cmd_prefix": "del ",
     "library": "var_list.py",
     "varRefreshCmd": "print(var_dic_list())"
    },
    "r": {
     "delete_cmd_postfix": ") ",
     "delete_cmd_prefix": "rm(",
     "library": "var_list.r",
     "varRefreshCmd": "cat(var_dic_list()) "
    }
   },
   "types_to_exclude": [
    "module",
    "function",
    "builtin_function_or_method",
    "instance",
    "_Feature"
   ],
   "window_display": false
  }
 },
 "nbformat": 4,
 "nbformat_minor": 5
}
